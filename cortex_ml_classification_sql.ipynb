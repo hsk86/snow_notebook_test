{
 "metadata": {
  "kernelspec": {
   "display_name": "Streamlit Notebook",
   "name": "streamlit"
  }
 },
 "nbformat_minor": 5,
 "nbformat": 4,
 "cells": [
  {
   "cell_type": "markdown",
   "id": "8d47e2c6-f3a6-4fd8-8d43-627cf0b1d637",
   "metadata": {
    "name": "Title",
    "collapsed": false
   },
   "source": "# Cortex ML Classification SQL\n\nThis notebook will run an end-to-end ML classification task, utilising Snowflake's new Cortex ML powered functions. This notebook provides all code, as well as data used to train the classification model on.  \n\nWe will work through an example using data provided by the Irvine Machine Learning Repository; specifically their Bank Marketing Dataset to build a model to predict whether or not clients at a Portuguese bank subscribed to a term deposit during a marketing campaign."
  },
  {
   "cell_type": "code",
   "id": "3775908f-ca36-4846-8f38-5adca39217f2",
   "metadata": {
    "language": "sql",
    "name": "Setup",
    "collapsed": false
   },
   "source": "--Setup\nUSE ROLE ACCOUNTADMIN;\nUSE WAREHOUSE COMPUTE_WH;\nUSE DATABASE CORTEX_ML_DEMO;\nUSE SCHEMA CLASSIFICATION_demo;\n\n-- Create a csv file format to be used to ingest from the stage: \nCREATE OR REPLACE FILE FORMAT csv_ff\n    TYPE = 'csv'\n    SKIP_HEADER = 1,\n    COMPRESSION = AUTO;\n    \n-- Create an external stage pointing to AWS S3 for loading our data:\nCREATE OR REPLACE STAGE s3load \n    COMMENT = 'Quickstart S3 Stage Connection'\n    URL = 's3://sfquickstarts/frostbyte_tastybytes/mlpf_quickstart/'\n    FILE_FORMAT = csv_ff;\n\n-- Define our table schema\nCREATE OR REPLACE TABLE bank_marketing(\n    AGE NUMBER,\n    JOB TEXT, \n    MARITAL TEXT, \n    EDUCATION TEXT, \n    DEFAULT TEXT, \n    HOUSING TEXT, \n    LOAN TEXT, \n    CONTACT TEXT, \n    MONTH TEXT, \n    DAY_OF_WEEK TEXT, \n    DURATION NUMBER(4, 0), \n    CAMPAIGN NUMBER(2, 0), \n    PDAYS NUMBER(3, 0), \n    PREVIOUS NUMBER(1, 0), \n    POUTCOME TEXT, \n    EMPLOYEE_VARIATION_RATE NUMBER(2, 1), \n    CONSUMER_PRICE_INDEX NUMBER(5, 3), \n    CONSUMER_CONFIDENCE_INDEX NUMBER(3,1), \n    EURIBOR_3_MONTH_RATE NUMBER(4, 3),\n    NUMBER_EMPLOYEES NUMBER(5, 1),\n    CLIENT_SUBSCRIBED BOOLEAN);\n\n-- Ingest data from S3 into our table:\nCOPY INTO bank_marketing\nFROM @s3load/cortex_ml_classification.csv;",
   "execution_count": null,
   "outputs": []
  },
  {
   "cell_type": "markdown",
   "id": "29025fba-a9a0-43f6-9a15-206075ff093a",
   "metadata": {
    "name": "ViewData",
    "collapsed": false
   },
   "source": "### View Data"
  },
  {
   "cell_type": "code",
   "id": "8d50cbf4-0c8d-4950-86cb-114990437ac9",
   "metadata": {
    "language": "sql",
    "name": "Top100Rows",
    "collapsed": false
   },
   "source": "-- View a sample of the ingested data: \nSELECT * FROM bank_marketing LIMIT 100;",
   "execution_count": null,
   "outputs": []
  },
  {
   "cell_type": "markdown",
   "id": "be776a3c-b4c7-4615-bcfb-230d91b597a1",
   "metadata": {
    "name": "Prepare",
    "collapsed": false
   },
   "source": "### Prepare Training & Inference Views"
  },
  {
   "cell_type": "code",
   "id": "c695373e-ac74-4b62-a1f1-08206cbd5c81",
   "metadata": {
    "language": "sql",
    "name": "TargetVar",
    "collapsed": false
   },
   "source": "-- Count of subscribed vs not subscribed: \nSELECT client_subscribed, COUNT(1) as num_rows\nFROM bank_marketing\nGROUP BY 1;",
   "execution_count": null,
   "outputs": []
  },
  {
   "cell_type": "code",
   "id": "2168e3b4-7896-4b52-9e04-f329adf564ec",
   "metadata": {
    "language": "sql",
    "name": "SplitTrainTest",
    "collapsed": false
   },
   "outputs": [],
   "source": "-- Create a view with a column that will be filtered for either training/inference purposes\nCREATE OR REPLACE VIEW partitioned_data as (\n  SELECT *, \n        CASE WHEN UNIFORM(0::float, 1::float, RANDOM()) < .95 THEN 'training' ELSE 'inference' END AS split_group\n  FROM bank_marketing\n);\n\n-- Training data view: \nCREATE OR REPLACE VIEW training_view AS (\n  SELECT * EXCLUDE split_group\n  FROM partitioned_data \n  WHERE split_group = 'training');\n\n-- Inference data view\nCREATE OR REPLACE VIEW inference_view AS (\n  SELECT * EXCLUDE split_group\n  FROM partitioned_data \n  WHERE split_group = 'inference');",
   "execution_count": null
  },
  {
   "cell_type": "markdown",
   "id": "eb3436fb-6a29-4818-ae04-73122d2e6849",
   "metadata": {
    "name": "Training",
    "collapsed": false
   },
   "source": "### Train Classifier and Make Predictions"
  },
  {
   "cell_type": "code",
   "id": "b9bd3cd7-0018-46db-9896-23077c393fbe",
   "metadata": {
    "language": "sql",
    "name": "TrainClassifier",
    "collapsed": false
   },
   "outputs": [],
   "source": "-- Train our classifier: \nCREATE OR REPLACE snowflake.ml.classification bank_classifier(\n    INPUT_DATA => SYSTEM$REFERENCE('VIEW', 'training_view'),\n    TARGET_COLNAME => 'CLIENT_SUBSCRIBED',\n    CONFIG_OBJECT => {'evaluate': TRUE , 'on_error': 'skip'}\n);\n",
   "execution_count": null
  },
  {
   "cell_type": "code",
   "id": "60bd28bc-ecf4-45ed-81bd-2f898ca660a0",
   "metadata": {
    "language": "sql",
    "name": "ShowModel",
    "collapsed": false
   },
   "outputs": [],
   "source": "-- Confirm model has been created\nSHOW snowflake.ml.classification;",
   "execution_count": null
  },
  {
   "cell_type": "code",
   "id": "2c3bd320-6f80-4388-a186-6d4d40c2a5d6",
   "metadata": {
    "language": "sql",
    "name": "Prediction",
    "collapsed": false
   },
   "outputs": [],
   "source": "-- Create the Predictions\nSELECT bank_classifier!PREDICT(INPUT_DATA => object_construct(*))\n    AS prediction FROM inference_view;",
   "execution_count": null
  },
  {
   "cell_type": "code",
   "id": "18b48301-c859-4f00-93c7-bb6e1f589779",
   "metadata": {
    "language": "sql",
    "name": "ProbabilityTable",
    "collapsed": false
   },
   "outputs": [],
   "source": "CREATE OR REPLACE TABLE predictions AS (\nSELECT \n    CLIENT_SUBSCRIBED,\n    prediction:class::boolean as prediction, \n    prediction:probability:False as false_probability,\n    prediction:probability:True as true_probability\nFROM\n    (\n    SELECT bank_classifier!PREDICT(object_construct(*)) AS prediction, CLIENT_SUBSCRIBED\n    FROM inference_view\n    ));\n\nSELECT *\nFROM predictions\nLIMIT 100;",
   "execution_count": null
  },
  {
   "cell_type": "markdown",
   "id": "97201ec2-b0d9-45a7-8273-5e13bb93e039",
   "metadata": {
    "name": "Evaluate",
    "collapsed": false
   },
   "source": "### Evaluate Model"
  },
  {
   "cell_type": "code",
   "id": "25f82558-b381-4e31-bbf6-18ed6f170531",
   "metadata": {
    "language": "sql",
    "name": "ConfusionMatrix",
    "collapsed": false
   },
   "outputs": [],
   "source": "-- Calculate the Confusion Matrix\nCALL bank_classifier!SHOW_CONFUSION_MATRIX();",
   "execution_count": null
  },
  {
   "cell_type": "code",
   "id": "57604be6-7fbc-4f38-9634-8694f717cab8",
   "metadata": {
    "language": "sql",
    "name": "EvaluationMetrics",
    "collapsed": false
   },
   "outputs": [],
   "source": "-- Calculate the evaluation metrics\nCALL bank_classifier!SHOW_EVALUATION_METRICS();\n\nCALL bank_classifier!SHOW_GLOBAL_EVALUATION_METRICS();",
   "execution_count": null
  },
  {
   "cell_type": "code",
   "id": "abeda85c-7991-4f39-884f-9a16bcf90a29",
   "metadata": {
    "language": "sql",
    "name": "ThresholdMetrics",
    "collapsed": false
   },
   "outputs": [],
   "source": "CALL bank_classifier!SHOW_THRESHOLD_METRICS();",
   "execution_count": null
  },
  {
   "cell_type": "code",
   "id": "ff5ca7da-8ede-4a68-81f0-a11f20c4a6ae",
   "metadata": {
    "language": "sql",
    "name": "FeatureImportance"
   },
   "outputs": [],
   "source": "CALL bank_classifier!SHOW_FEATURE_IMPORTANCE();",
   "execution_count": null
  }
 ]
}